{
 "cells": [
  {
   "cell_type": "markdown",
   "metadata": {},
   "source": [
    "# Biodiversity in National Parks Data Explration and Analysis\n",
    "\n",
    "In this file I will explore the data and try to answer some questions about the biodiversity in National Parks. I will use the following datasets:  \n",
    "- `observations.csv`\n",
    "- `species_info.csv`\n"
   ]
  },
  {
   "cell_type": "markdown",
   "metadata": {},
   "source": [
    "## Problem Defenition\n",
    "\n",
    "There are many speicies observed within the national parks, some of them are endagered. I will try to analyse the data and attemt to find statistical insights about the conservational sataus of these species in relation to the parks and categories they belong to."
   ]
  },
  {
   "cell_type": "markdown",
   "metadata": {},
   "source": [
    "## Analysis\n",
    "\n",
    "Descriptive:\n",
    "\n",
    "- What is the distribution of conservation status for species?\n",
    "- what is the park that has the most endangered species?\n",
    "- what is the category that has the most endangered species?\n",
    "- what is the most common species in each park?\n",
    "\n",
    "Exploratory:\n",
    "\n",
    "- is there a correlation between multiple types of speiceis and their conservation status?\n",
    "- is there a correlation between the park and the conservation status of the species?\n",
    "- is there a correlation between the category and the conservation status of the species?\n",
    "\n",
    "Inferential:\n",
    "\n",
    "- what is the probability of a species being endangered for each category?\n",
    "- what is the probability of a species being endangered for each park?\n",
    "- what is the probability of a species being endangered for each category and park?\n",
    "\n",
    "Predictive:\n",
    "\n",
    "- can we predict the conservation status of a species based on its category, park, and observations?\n"
   ]
  },
  {
   "cell_type": "markdown",
   "metadata": {},
   "source": [
    "## Observing the data  \n",
    "\n",
    "I will start by loading the data and exploring the first few rows of each dataset."
   ]
  },
  {
   "cell_type": "code",
   "execution_count": 14,
   "metadata": {},
   "outputs": [],
   "source": [
    "# !pip install numpy\n",
    "# !pip install matplotlib\n",
    "# !pip install pandas\n",
    "# !pip install seaborn"
   ]
  },
  {
   "cell_type": "code",
   "execution_count": 15,
   "metadata": {},
   "outputs": [],
   "source": [
    "import csv \n",
    "import numpy as np\n",
    "import pandas as pd\n",
    "import seaborn as sns\n"
   ]
  },
  {
   "cell_type": "code",
   "execution_count": 16,
   "metadata": {},
   "outputs": [
    {
     "name": "stdout",
     "output_type": "stream",
     "text": [
      "            scientific_name                            park_name  observations\n",
      "0        Vicia benghalensis  Great Smoky Mountains National Park            68\n",
      "1            Neovison vison  Great Smoky Mountains National Park            77\n",
      "2         Prunus subcordata               Yosemite National Park           138\n",
      "3      Abutilon theophrasti                  Bryce National Park            84\n",
      "4  Githopsis specularioides  Great Smoky Mountains National Park            85\n",
      "<class 'pandas.core.frame.DataFrame'>\n",
      "RangeIndex: 23296 entries, 0 to 23295\n",
      "Data columns (total 3 columns):\n",
      " #   Column           Non-Null Count  Dtype \n",
      "---  ------           --------------  ----- \n",
      " 0   scientific_name  23296 non-null  object\n",
      " 1   park_name        23296 non-null  object\n",
      " 2   observations     23296 non-null  int64 \n",
      "dtypes: int64(1), object(2)\n",
      "memory usage: 546.1+ KB\n",
      "None\n",
      "       observations\n",
      "count  23296.000000\n",
      "mean     142.287904\n",
      "std       69.890532\n",
      "min        9.000000\n",
      "25%       86.000000\n",
      "50%      124.000000\n",
      "75%      195.000000\n",
      "max      321.000000\n"
     ]
    }
   ],
   "source": [
    "observations_df = pd.read_csv('observations.csv')\n",
    "species_df = pd.read_csv('species_info.csv')\n",
    "\n",
    "print(observations_df.head())\n",
    "print(observations_df.info())\n",
    "print(observations_df.describe())"
   ]
  },
  {
   "cell_type": "code",
   "execution_count": 17,
   "metadata": {},
   "outputs": [
    {
     "name": "stdout",
     "output_type": "stream",
     "text": [
      "            category       scientific_name  \\\n",
      "0     Vascular Plant         Abies bifolia   \n",
      "1     Vascular Plant        Abies concolor   \n",
      "2     Vascular Plant         Abies fraseri   \n",
      "3  Nonvascular Plant  Abietinella abietina   \n",
      "4     Vascular Plant     Abronia ammophila   \n",
      "\n",
      "                                        common_names conservation_status  \n",
      "0                          Rocky Mountain Alpine Fir                 NaN  \n",
      "1  Balsam Fir, Colorado Fir, Concolor Fir, Silver...                 NaN  \n",
      "2                                         Fraser Fir  Species of Concern  \n",
      "3                                   Abietinella Moss                 NaN  \n",
      "4     Wyoming Sand Verbena, Yellowstone Sand Verbena  Species of Concern  \n",
      "<class 'pandas.core.frame.DataFrame'>\n",
      "RangeIndex: 5825 entries, 0 to 5824\n",
      "Data columns (total 4 columns):\n",
      " #   Column               Non-Null Count  Dtype \n",
      "---  ------               --------------  ----- \n",
      " 0   category             5824 non-null   object\n",
      " 1   scientific_name      5824 non-null   object\n",
      " 2   common_names         5824 non-null   object\n",
      " 3   conservation_status  191 non-null    object\n",
      "dtypes: object(4)\n",
      "memory usage: 182.2+ KB\n",
      "None\n",
      "              category scientific_name        common_names conservation_status\n",
      "count             5824            5824                5824                 191\n",
      "unique               7            5541                5504                   4\n",
      "top     Vascular Plant     Canis lupus  Brachythecium Moss  Species of Concern\n",
      "freq              4470               3                   7                 161\n"
     ]
    }
   ],
   "source": [
    "print(species_df.head())\n",
    "print(species_df.info())\n",
    "print(species_df.describe())"
   ]
  },
  {
   "cell_type": "markdown",
   "metadata": {},
   "source": [
    "Observing these datasets we can assume that the structure of the data is as follows:\n",
    "- observations.csv:  \n",
    "\n",
    "|Name|Type|Description|\n",
    "|---|---|---|\n",
    "|scientific_name| String | The scientific name of the species (foreign key) |\n",
    "| park_name | String | The name of the national park where the species was observed |\n",
    "| Observations | Int | The number of times the species was observed in the park |\n",
    "\n",
    "- species_info.csv:\n",
    "\n",
    "|Name|Type| Description|\n",
    "|---|---| ---|\n",
    "| category | String | The category of the species (mammal, bird, reptile, etc.) |\n",
    "| scientific_name | String | The scientific name of the species (primary key)|\n",
    "| common_names | String | The common names of the species |\n",
    "| conservation_status | String | The species conservation status |\n",
    "\n",
    "scientific name is the unique identifier for the species in both datasets."
   ]
  },
  {
   "cell_type": "markdown",
   "metadata": {},
   "source": [
    "### Cleaning the data \n",
    "\n",
    "immediatley there are NaN's in the conservation_status column. I will replace these with 'No Intervention' as it is likely that these species are not in danger."
   ]
  },
  {
   "cell_type": "code",
   "execution_count": 18,
   "metadata": {},
   "outputs": [
    {
     "data": {
      "text/html": [
       "<div>\n",
       "<style scoped>\n",
       "    .dataframe tbody tr th:only-of-type {\n",
       "        vertical-align: middle;\n",
       "    }\n",
       "\n",
       "    .dataframe tbody tr th {\n",
       "        vertical-align: top;\n",
       "    }\n",
       "\n",
       "    .dataframe thead th {\n",
       "        text-align: right;\n",
       "    }\n",
       "</style>\n",
       "<table border=\"1\" class=\"dataframe\">\n",
       "  <thead>\n",
       "    <tr style=\"text-align: right;\">\n",
       "      <th></th>\n",
       "      <th>category</th>\n",
       "      <th>scientific_name</th>\n",
       "      <th>common_names</th>\n",
       "      <th>conservation_status</th>\n",
       "    </tr>\n",
       "  </thead>\n",
       "  <tbody>\n",
       "    <tr>\n",
       "      <th>0</th>\n",
       "      <td>Vascular Plant</td>\n",
       "      <td>Abies bifolia</td>\n",
       "      <td>Rocky Mountain Alpine Fir</td>\n",
       "      <td>No Intervention</td>\n",
       "    </tr>\n",
       "    <tr>\n",
       "      <th>1</th>\n",
       "      <td>Vascular Plant</td>\n",
       "      <td>Abies concolor</td>\n",
       "      <td>Balsam Fir, Colorado Fir, Concolor Fir, Silver...</td>\n",
       "      <td>No Intervention</td>\n",
       "    </tr>\n",
       "    <tr>\n",
       "      <th>2</th>\n",
       "      <td>Vascular Plant</td>\n",
       "      <td>Abies fraseri</td>\n",
       "      <td>Fraser Fir</td>\n",
       "      <td>Species of Concern</td>\n",
       "    </tr>\n",
       "    <tr>\n",
       "      <th>3</th>\n",
       "      <td>Nonvascular Plant</td>\n",
       "      <td>Abietinella abietina</td>\n",
       "      <td>Abietinella Moss</td>\n",
       "      <td>No Intervention</td>\n",
       "    </tr>\n",
       "    <tr>\n",
       "      <th>4</th>\n",
       "      <td>Vascular Plant</td>\n",
       "      <td>Abronia ammophila</td>\n",
       "      <td>Wyoming Sand Verbena, Yellowstone Sand Verbena</td>\n",
       "      <td>Species of Concern</td>\n",
       "    </tr>\n",
       "  </tbody>\n",
       "</table>\n",
       "</div>"
      ],
      "text/plain": [
       "            category       scientific_name  \\\n",
       "0     Vascular Plant         Abies bifolia   \n",
       "1     Vascular Plant        Abies concolor   \n",
       "2     Vascular Plant         Abies fraseri   \n",
       "3  Nonvascular Plant  Abietinella abietina   \n",
       "4     Vascular Plant     Abronia ammophila   \n",
       "\n",
       "                                        common_names conservation_status  \n",
       "0                          Rocky Mountain Alpine Fir     No Intervention  \n",
       "1  Balsam Fir, Colorado Fir, Concolor Fir, Silver...     No Intervention  \n",
       "2                                         Fraser Fir  Species of Concern  \n",
       "3                                   Abietinella Moss     No Intervention  \n",
       "4     Wyoming Sand Verbena, Yellowstone Sand Verbena  Species of Concern  "
      ]
     },
     "execution_count": 18,
     "metadata": {},
     "output_type": "execute_result"
    }
   ],
   "source": [
    "#replace nan values with 'No Intervention'\n",
    "species_df.fillna('No Intervention', inplace=True)\n",
    "species_df.head()"
   ]
  },
  {
   "cell_type": "markdown",
   "metadata": {},
   "source": [
    "i will also check for duplicates, incorrect data types and other missing values."
   ]
  },
  {
   "cell_type": "code",
   "execution_count": 19,
   "metadata": {},
   "outputs": [
    {
     "name": "stdout",
     "output_type": "stream",
     "text": [
      "species_df\n",
      "category               5825\n",
      "scientific_name        5825\n",
      "common_names           5825\n",
      "conservation_status    5825\n",
      "dtype: int64\n",
      "\n",
      "observations_df\n",
      "scientific_name    23296\n",
      "park_name          23296\n",
      "observations       23296\n",
      "dtype: int64\n"
     ]
    }
   ],
   "source": [
    "#check for missing values\n",
    "print(\"species_df\")\n",
    "print(species_df.count())\n",
    "print(\"\\nobservations_df\")\n",
    "print(observations_df.count())\n",
    "#no missing values"
   ]
  },
  {
   "cell_type": "code",
   "execution_count": 20,
   "metadata": {},
   "outputs": [
    {
     "name": "stdout",
     "output_type": "stream",
     "text": [
      "0\n",
      "15\n"
     ]
    },
    {
     "data": {
      "text/html": [
       "<div>\n",
       "<style scoped>\n",
       "    .dataframe tbody tr th:only-of-type {\n",
       "        vertical-align: middle;\n",
       "    }\n",
       "\n",
       "    .dataframe tbody tr th {\n",
       "        vertical-align: top;\n",
       "    }\n",
       "\n",
       "    .dataframe thead th {\n",
       "        text-align: right;\n",
       "    }\n",
       "</style>\n",
       "<table border=\"1\" class=\"dataframe\">\n",
       "  <thead>\n",
       "    <tr style=\"text-align: right;\">\n",
       "      <th></th>\n",
       "      <th>common_names</th>\n",
       "      <th>count</th>\n",
       "    </tr>\n",
       "  </thead>\n",
       "  <tbody>\n",
       "    <tr>\n",
       "      <th>1729</th>\n",
       "      <td>Dicranum Moss</td>\n",
       "      <td>7</td>\n",
       "    </tr>\n",
       "    <tr>\n",
       "      <th>771</th>\n",
       "      <td>Brachythecium Moss</td>\n",
       "      <td>7</td>\n",
       "    </tr>\n",
       "    <tr>\n",
       "      <th>4654</th>\n",
       "      <td>Sphagnum</td>\n",
       "      <td>6</td>\n",
       "    </tr>\n",
       "    <tr>\n",
       "      <th>3665</th>\n",
       "      <td>Panic Grass</td>\n",
       "      <td>6</td>\n",
       "    </tr>\n",
       "    <tr>\n",
       "      <th>901</th>\n",
       "      <td>Bryum Moss</td>\n",
       "      <td>6</td>\n",
       "    </tr>\n",
       "    <tr>\n",
       "      <th>...</th>\n",
       "      <td>...</td>\n",
       "      <td>...</td>\n",
       "    </tr>\n",
       "    <tr>\n",
       "      <th>1863</th>\n",
       "      <td>Eared Grebe</td>\n",
       "      <td>1</td>\n",
       "    </tr>\n",
       "    <tr>\n",
       "      <th>1862</th>\n",
       "      <td>Eagle Fern, Hairy Brackenfern, Western Bracken...</td>\n",
       "      <td>1</td>\n",
       "    </tr>\n",
       "    <tr>\n",
       "      <th>1861</th>\n",
       "      <td>Dyer's Woad</td>\n",
       "      <td>1</td>\n",
       "    </tr>\n",
       "    <tr>\n",
       "      <th>1860</th>\n",
       "      <td>Dwarf Willow</td>\n",
       "      <td>1</td>\n",
       "    </tr>\n",
       "    <tr>\n",
       "      <th>2752</th>\n",
       "      <td>Jepson's Willow</td>\n",
       "      <td>1</td>\n",
       "    </tr>\n",
       "  </tbody>\n",
       "</table>\n",
       "<p>5505 rows × 2 columns</p>\n",
       "</div>"
      ],
      "text/plain": [
       "                                           common_names  count\n",
       "1729                                      Dicranum Moss      7\n",
       "771                                  Brachythecium Moss      7\n",
       "4654                                           Sphagnum      6\n",
       "3665                                        Panic Grass      6\n",
       "901                                          Bryum Moss      6\n",
       "...                                                 ...    ...\n",
       "1863                                        Eared Grebe      1\n",
       "1862  Eagle Fern, Hairy Brackenfern, Western Bracken...      1\n",
       "1861                                        Dyer's Woad      1\n",
       "1860                                       Dwarf Willow      1\n",
       "2752                                    Jepson's Willow      1\n",
       "\n",
       "[5505 rows x 2 columns]"
      ]
     },
     "execution_count": 20,
     "metadata": {},
     "output_type": "execute_result"
    }
   ],
   "source": [
    "#check for dulplicates \n",
    "print(species_df.duplicated().sum())\n",
    "print(observations_df.duplicated().sum())\n",
    "\n",
    "observations_df.drop_duplicates()\n",
    "\n",
    "#count number of instances of scientific name\n",
    "species_count = species_df.common_names.groupby(species_df.common_names).count().reset_index(name='count').sort_values(['count'], ascending=False)\n",
    "species_count"
   ]
  },
  {
   "cell_type": "code",
   "execution_count": 21,
   "metadata": {},
   "outputs": [],
   "source": [
    "#conosolodate scientific name in species_df\n",
    "#sort species by scientific name\n",
    "species_df = species_df.sort_values('scientific_name').reset_index(drop=True)\n",
    "#loop through species_df and join the rows with the same scientific name by adding the common name to the previous instance\n",
    "for i in range(1, len(species_df)):\n",
    "    if species_df.scientific_name[i] == species_df.scientific_name[i-1]:\n",
    "        species_df.common_names[i] = species_df.common_names[i-1] + \", \" + species_df.common_names[i]\n",
    "        species_df.drop(i-1, inplace=True)"
   ]
  },
  {
   "cell_type": "code",
   "execution_count": null,
   "metadata": {},
   "outputs": [],
   "source": [
    "#consolodate scientific names in observations_df\n",
    "#sort species by scientific name and park name\n",
    "observations_df = observations_df.sort_values(['scientific_name', 'park_name']).reset_index(drop=True)\n",
    "\n",
    "#loop through observations_df and join the rows with the same scientific name by adding the observations to the previous instance that also matches the park name\n",
    "for i in range(1, len(observations_df)):\n",
    "    if observations_df.scientific_name[i] == observations_df.scientific_name[i-1] and observations_df.park_name[i] == observations_df.park_name[i-1]:\n",
    "        observations_df.observations[i] = observations_df.observations[i-1] + observations_df.observations[i]\n",
    "        observations_df.drop(i-1, inplace=True)\n",
    "\n",
    "\n"
   ]
  },
  {
   "cell_type": "code",
   "execution_count": 23,
   "metadata": {},
   "outputs": [
    {
     "data": {
      "text/plain": [
       "scientific_name    object\n",
       "park_name          object\n",
       "observations        int64\n",
       "dtype: object"
      ]
     },
     "execution_count": 23,
     "metadata": {},
     "output_type": "execute_result"
    }
   ],
   "source": [
    "#data types are correct\n",
    "observations_df.dtypes"
   ]
  },
  {
   "cell_type": "markdown",
   "metadata": {},
   "source": [
    "### Data Inspection\n",
    "I will now inspect the data for any initial trends, outliers or other interesting information."
   ]
  },
  {
   "cell_type": "markdown",
   "metadata": {},
   "source": [
    "#### General Observations\n",
    "\n",
    "- There are 4 national parks in the data\n",
    "  - each park has the same number of records in observations \n",
    "- There are 7 categories of species\n",
    "  - the most common category is Vascular Plant\n",
    "- There are 4 conservation statuses\n",
    "    - the most common status is 'No Intervention'\n"
   ]
  },
  {
   "cell_type": "code",
   "execution_count": 24,
   "metadata": {},
   "outputs": [
    {
     "data": {
      "text/html": [
       "<div>\n",
       "<style scoped>\n",
       "    .dataframe tbody tr th:only-of-type {\n",
       "        vertical-align: middle;\n",
       "    }\n",
       "\n",
       "    .dataframe tbody tr th {\n",
       "        vertical-align: top;\n",
       "    }\n",
       "\n",
       "    .dataframe thead th {\n",
       "        text-align: right;\n",
       "    }\n",
       "</style>\n",
       "<table border=\"1\" class=\"dataframe\">\n",
       "  <thead>\n",
       "    <tr style=\"text-align: right;\">\n",
       "      <th></th>\n",
       "      <th>park_name</th>\n",
       "      <th>count</th>\n",
       "    </tr>\n",
       "  </thead>\n",
       "  <tbody>\n",
       "    <tr>\n",
       "      <th>0</th>\n",
       "      <td>Bryce National Park</td>\n",
       "      <td>5541</td>\n",
       "    </tr>\n",
       "    <tr>\n",
       "      <th>1</th>\n",
       "      <td>Great Smoky Mountains National Park</td>\n",
       "      <td>5541</td>\n",
       "    </tr>\n",
       "    <tr>\n",
       "      <th>2</th>\n",
       "      <td>Yellowstone National Park</td>\n",
       "      <td>5541</td>\n",
       "    </tr>\n",
       "    <tr>\n",
       "      <th>3</th>\n",
       "      <td>Yosemite National Park</td>\n",
       "      <td>5541</td>\n",
       "    </tr>\n",
       "  </tbody>\n",
       "</table>\n",
       "</div>"
      ],
      "text/plain": [
       "                             park_name  count\n",
       "0                  Bryce National Park   5541\n",
       "1  Great Smoky Mountains National Park   5541\n",
       "2            Yellowstone National Park   5541\n",
       "3               Yosemite National Park   5541"
      ]
     },
     "execution_count": 24,
     "metadata": {},
     "output_type": "execute_result"
    }
   ],
   "source": [
    "#count of each park name in observations_df\n",
    "observations_df.park_name.value_counts().reset_index()\n",
    "#there is an equal number of observation records for each park"
   ]
  },
  {
   "cell_type": "code",
   "execution_count": 25,
   "metadata": {},
   "outputs": [
    {
     "data": {
      "text/html": [
       "<div>\n",
       "<style scoped>\n",
       "    .dataframe tbody tr th:only-of-type {\n",
       "        vertical-align: middle;\n",
       "    }\n",
       "\n",
       "    .dataframe tbody tr th {\n",
       "        vertical-align: top;\n",
       "    }\n",
       "\n",
       "    .dataframe thead th {\n",
       "        text-align: right;\n",
       "    }\n",
       "</style>\n",
       "<table border=\"1\" class=\"dataframe\">\n",
       "  <thead>\n",
       "    <tr style=\"text-align: right;\">\n",
       "      <th></th>\n",
       "      <th>category</th>\n",
       "      <th>count</th>\n",
       "      <th>percentage</th>\n",
       "    </tr>\n",
       "  </thead>\n",
       "  <tbody>\n",
       "    <tr>\n",
       "      <th>0</th>\n",
       "      <td>Vascular Plant</td>\n",
       "      <td>4262</td>\n",
       "      <td>76.903645</td>\n",
       "    </tr>\n",
       "    <tr>\n",
       "      <th>1</th>\n",
       "      <td>Bird</td>\n",
       "      <td>488</td>\n",
       "      <td>8.805485</td>\n",
       "    </tr>\n",
       "    <tr>\n",
       "      <th>2</th>\n",
       "      <td>Nonvascular Plant</td>\n",
       "      <td>333</td>\n",
       "      <td>6.008661</td>\n",
       "    </tr>\n",
       "    <tr>\n",
       "      <th>3</th>\n",
       "      <td>Mammal</td>\n",
       "      <td>176</td>\n",
       "      <td>3.175749</td>\n",
       "    </tr>\n",
       "    <tr>\n",
       "      <th>4</th>\n",
       "      <td>Fish</td>\n",
       "      <td>125</td>\n",
       "      <td>2.255503</td>\n",
       "    </tr>\n",
       "    <tr>\n",
       "      <th>5</th>\n",
       "      <td>Amphibian</td>\n",
       "      <td>79</td>\n",
       "      <td>1.425478</td>\n",
       "    </tr>\n",
       "    <tr>\n",
       "      <th>6</th>\n",
       "      <td>Reptile</td>\n",
       "      <td>78</td>\n",
       "      <td>1.407434</td>\n",
       "    </tr>\n",
       "    <tr>\n",
       "      <th>7</th>\n",
       "      <td>No Intervention</td>\n",
       "      <td>1</td>\n",
       "      <td>0.018044</td>\n",
       "    </tr>\n",
       "  </tbody>\n",
       "</table>\n",
       "</div>"
      ],
      "text/plain": [
       "            category  count  percentage\n",
       "0     Vascular Plant   4262   76.903645\n",
       "1               Bird    488    8.805485\n",
       "2  Nonvascular Plant    333    6.008661\n",
       "3             Mammal    176    3.175749\n",
       "4               Fish    125    2.255503\n",
       "5          Amphibian     79    1.425478\n",
       "6            Reptile     78    1.407434\n",
       "7    No Intervention      1    0.018044"
      ]
     },
     "execution_count": 25,
     "metadata": {},
     "output_type": "execute_result"
    }
   ],
   "source": [
    "#the count of each category in species_df\n",
    "category_count = species_df.category.value_counts().reset_index()\n",
    "category_count['percentage'] = category_count['count']/category_count['count'].sum()*100\n",
    "category_count\n",
    "#this shows that there lots of vascular plant observation records"
   ]
  },
  {
   "cell_type": "code",
   "execution_count": 26,
   "metadata": {},
   "outputs": [
    {
     "data": {
      "text/html": [
       "<div>\n",
       "<style scoped>\n",
       "    .dataframe tbody tr th:only-of-type {\n",
       "        vertical-align: middle;\n",
       "    }\n",
       "\n",
       "    .dataframe tbody tr th {\n",
       "        vertical-align: top;\n",
       "    }\n",
       "\n",
       "    .dataframe thead th {\n",
       "        text-align: right;\n",
       "    }\n",
       "</style>\n",
       "<table border=\"1\" class=\"dataframe\">\n",
       "  <thead>\n",
       "    <tr style=\"text-align: right;\">\n",
       "      <th></th>\n",
       "      <th>conservation_status</th>\n",
       "      <th>_count</th>\n",
       "      <th>percentage</th>\n",
       "    </tr>\n",
       "  </thead>\n",
       "  <tbody>\n",
       "    <tr>\n",
       "      <th>0</th>\n",
       "      <td>No Intervention</td>\n",
       "      <td>5363</td>\n",
       "      <td>96.770119</td>\n",
       "    </tr>\n",
       "    <tr>\n",
       "      <th>1</th>\n",
       "      <td>Species of Concern</td>\n",
       "      <td>151</td>\n",
       "      <td>2.724648</td>\n",
       "    </tr>\n",
       "    <tr>\n",
       "      <th>2</th>\n",
       "      <td>Endangered</td>\n",
       "      <td>15</td>\n",
       "      <td>0.270660</td>\n",
       "    </tr>\n",
       "    <tr>\n",
       "      <th>3</th>\n",
       "      <td>Threatened</td>\n",
       "      <td>10</td>\n",
       "      <td>0.180440</td>\n",
       "    </tr>\n",
       "    <tr>\n",
       "      <th>4</th>\n",
       "      <td>In Recovery</td>\n",
       "      <td>3</td>\n",
       "      <td>0.054132</td>\n",
       "    </tr>\n",
       "  </tbody>\n",
       "</table>\n",
       "</div>"
      ],
      "text/plain": [
       "  conservation_status  _count  percentage\n",
       "0     No Intervention    5363   96.770119\n",
       "1  Species of Concern     151    2.724648\n",
       "2          Endangered      15    0.270660\n",
       "3          Threatened      10    0.180440\n",
       "4         In Recovery       3    0.054132"
      ]
     },
     "execution_count": 26,
     "metadata": {},
     "output_type": "execute_result"
    }
   ],
   "source": [
    "#count of each conservation status in species_df\n",
    "conservatiopon_status_v_species = species_df.conservation_status.value_counts().reset_index()\n",
    "conservatiopon_status_v_species.rename(columns={'count':\"_count\"}, inplace=True)\n",
    "conservatiopon_status_v_species['percentage'] = conservatiopon_status_v_species._count/conservatiopon_status_v_species._count.sum() * 100\n",
    "conservatiopon_status_v_species\n",
    "#this shows that most species are not under any conservation status"
   ]
  },
  {
   "cell_type": "markdown",
   "metadata": {},
   "source": [
    "#### Deeper Observations\n",
    "\n",
    "- yellowstone has the most observations\n",
    "  - is this to do with park size?\n",
    "- vascular plant has the most observations\n",
    "  - is this due to the number of species in this category?\n",
    "- the number of observations per conservation status matches the same distribution as the number of species in each status\n"
   ]
  },
  {
   "cell_type": "code",
   "execution_count": 27,
   "metadata": {},
   "outputs": [
    {
     "data": {
      "text/html": [
       "<div>\n",
       "<style scoped>\n",
       "    .dataframe tbody tr th:only-of-type {\n",
       "        vertical-align: middle;\n",
       "    }\n",
       "\n",
       "    .dataframe tbody tr th {\n",
       "        vertical-align: top;\n",
       "    }\n",
       "\n",
       "    .dataframe thead th {\n",
       "        text-align: right;\n",
       "    }\n",
       "</style>\n",
       "<table border=\"1\" class=\"dataframe\">\n",
       "  <thead>\n",
       "    <tr style=\"text-align: right;\">\n",
       "      <th></th>\n",
       "      <th>park_name</th>\n",
       "      <th>observations</th>\n",
       "      <th>percentage</th>\n",
       "    </tr>\n",
       "  </thead>\n",
       "  <tbody>\n",
       "    <tr>\n",
       "      <th>0</th>\n",
       "      <td>Bryce National Park</td>\n",
       "      <td>576025</td>\n",
       "      <td>17.377688</td>\n",
       "    </tr>\n",
       "    <tr>\n",
       "      <th>1</th>\n",
       "      <td>Great Smoky Mountains National Park</td>\n",
       "      <td>431820</td>\n",
       "      <td>13.027270</td>\n",
       "    </tr>\n",
       "    <tr>\n",
       "      <th>2</th>\n",
       "      <td>Yellowstone National Park</td>\n",
       "      <td>1443562</td>\n",
       "      <td>43.549794</td>\n",
       "    </tr>\n",
       "    <tr>\n",
       "      <th>3</th>\n",
       "      <td>Yosemite National Park</td>\n",
       "      <td>863332</td>\n",
       "      <td>26.045248</td>\n",
       "    </tr>\n",
       "  </tbody>\n",
       "</table>\n",
       "</div>"
      ],
      "text/plain": [
       "                             park_name  observations  percentage\n",
       "0                  Bryce National Park        576025   17.377688\n",
       "1  Great Smoky Mountains National Park        431820   13.027270\n",
       "2            Yellowstone National Park       1443562   43.549794\n",
       "3               Yosemite National Park        863332   26.045248"
      ]
     },
     "execution_count": 27,
     "metadata": {},
     "output_type": "execute_result"
    }
   ],
   "source": [
    "#number of obserevations for each park\n",
    "park_v_observations = observations_df.groupby('park_name').observations.sum().reset_index()\n",
    "park_v_observations['percentage'] = park_v_observations.observations/park_v_observations.observations.sum() * 100   \n",
    "park_v_observations\n",
    "#yellowstone has the most observations\n",
    "#TODO: see if theres is a correlation between size of park and number of observations"
   ]
  },
  {
   "cell_type": "code",
   "execution_count": 28,
   "metadata": {},
   "outputs": [
    {
     "data": {
      "text/html": [
       "<div>\n",
       "<style scoped>\n",
       "    .dataframe tbody tr th:only-of-type {\n",
       "        vertical-align: middle;\n",
       "    }\n",
       "\n",
       "    .dataframe tbody tr th {\n",
       "        vertical-align: top;\n",
       "    }\n",
       "\n",
       "    .dataframe thead th {\n",
       "        text-align: right;\n",
       "    }\n",
       "</style>\n",
       "<table border=\"1\" class=\"dataframe\">\n",
       "  <thead>\n",
       "    <tr style=\"text-align: right;\">\n",
       "      <th></th>\n",
       "      <th>park_name</th>\n",
       "      <th>size</th>\n",
       "      <th>percentage</th>\n",
       "    </tr>\n",
       "  </thead>\n",
       "  <tbody>\n",
       "    <tr>\n",
       "      <th>0</th>\n",
       "      <td>Bryce National Park</td>\n",
       "      <td>35835</td>\n",
       "      <td>1.012391</td>\n",
       "    </tr>\n",
       "    <tr>\n",
       "      <th>1</th>\n",
       "      <td>Great Smoky Mountains National Park</td>\n",
       "      <td>522419</td>\n",
       "      <td>14.759100</td>\n",
       "    </tr>\n",
       "    <tr>\n",
       "      <th>2</th>\n",
       "      <td>Yellowstone National Park</td>\n",
       "      <td>2221766</td>\n",
       "      <td>62.768135</td>\n",
       "    </tr>\n",
       "    <tr>\n",
       "      <th>3</th>\n",
       "      <td>Yosemite National Park</td>\n",
       "      <td>759620</td>\n",
       "      <td>21.460375</td>\n",
       "    </tr>\n",
       "  </tbody>\n",
       "</table>\n",
       "</div>"
      ],
      "text/plain": [
       "                             park_name     size  percentage\n",
       "0                  Bryce National Park    35835    1.012391\n",
       "1  Great Smoky Mountains National Park   522419   14.759100\n",
       "2            Yellowstone National Park  2221766   62.768135\n",
       "3               Yosemite National Park   759620   21.460375"
      ]
     },
     "execution_count": 28,
     "metadata": {},
     "output_type": "execute_result"
    }
   ],
   "source": [
    "size_of_park = pd.DataFrame({'park_name':['Bryce National Park', 'Great Smoky Mountains National Park', 'Yellowstone National Park', 'Yosemite National Park'], 'size':[35835, 522419, 2221766, 759620]})\n",
    "size_of_park['percentage'] = size_of_park['size']/size_of_park['size'].sum() * 100\n",
    "size_of_park"
   ]
  },
  {
   "cell_type": "code",
   "execution_count": 29,
   "metadata": {},
   "outputs": [
    {
     "name": "stderr",
     "output_type": "stream",
     "text": [
      "C:\\Users\\Holly\\AppData\\Local\\Temp\\ipykernel_6904\\3785039616.py:12: UserWarning: FixedFormatter should only be used together with FixedLocator\n",
      "  ax.set_xticklabels(x_labels, rotation=30)\n"
     ]
    },
    {
     "data": {
      "image/png": "[encoded data removed]",
      "text/plain": [
       "<Figure size 640x480 with 1 Axes>"
      ]
     },
     "metadata": {},
     "output_type": "display_data"
    }
   ],
   "source": [
    "from scipy.stats import pearsonr\n",
    "correlation , p = pearsonr(park_v_observations.percentage, size_of_park.percentage)\n",
    "correlation = round(correlation, 6)\n",
    "\n",
    "import matplotlib.pyplot as plt\n",
    "ax = plt.subplot()\n",
    "ax.set_yscale('log')\n",
    "plt.bar(park_v_observations.park_name, park_v_observations.percentage, color='blue', alpha=0.5)\n",
    "# ax.set_xticks(_x_tick_positions_list_)\n",
    "plt.bar(size_of_park.park_name, size_of_park.percentage, color='red', alpha=0.5)\n",
    "x_labels = ['Bryce\\nNational Park', 'Great Smoky\\nMountains\\nNational Park', 'Yellowstone\\nNational Park', 'Yosemite\\nNational Park']\n",
    "ax.set_xticklabels(x_labels, rotation=30)\n",
    "plt.xlabel('Park Name')\n",
    "plt.ylabel('Percentage')\n",
    "plt.legend(['Observations', 'Size of Park'])\n",
    "plt.title('Percentage of Observations and Size of Park')\n",
    "\n",
    "plt.annotate(f'Correlation: {correlation}', (0, 0), (5, 220), xycoords='axes fraction', textcoords='offset points', va='top')\n",
    "plot_name = 'graphs/percentage_of_observations_and_size_of_park.png'\n",
    "plt.savefig(plot_name, bbox_inches='tight')\n",
    "plt.show()\n"
   ]
  },
  {
   "cell_type": "code",
   "execution_count": 30,
   "metadata": {},
   "outputs": [
    {
     "data": {
      "text/html": [
       "<div>\n",
       "<style scoped>\n",
       "    .dataframe tbody tr th:only-of-type {\n",
       "        vertical-align: middle;\n",
       "    }\n",
       "\n",
       "    .dataframe tbody tr th {\n",
       "        vertical-align: top;\n",
       "    }\n",
       "\n",
       "    .dataframe thead th {\n",
       "        text-align: right;\n",
       "    }\n",
       "</style>\n",
       "<table border=\"1\" class=\"dataframe\">\n",
       "  <thead>\n",
       "    <tr style=\"text-align: right;\">\n",
       "      <th></th>\n",
       "      <th>category</th>\n",
       "      <th>observations</th>\n",
       "      <th>percentage</th>\n",
       "    </tr>\n",
       "  </thead>\n",
       "  <tbody>\n",
       "    <tr>\n",
       "      <th>6</th>\n",
       "      <td>Vascular Plant</td>\n",
       "      <td>2555090</td>\n",
       "      <td>77.082690</td>\n",
       "    </tr>\n",
       "    <tr>\n",
       "      <th>1</th>\n",
       "      <td>Bird</td>\n",
       "      <td>292833</td>\n",
       "      <td>8.834270</td>\n",
       "    </tr>\n",
       "    <tr>\n",
       "      <th>4</th>\n",
       "      <td>Nonvascular Plant</td>\n",
       "      <td>190653</td>\n",
       "      <td>5.751675</td>\n",
       "    </tr>\n",
       "    <tr>\n",
       "      <th>3</th>\n",
       "      <td>Mammal</td>\n",
       "      <td>116696</td>\n",
       "      <td>3.520519</td>\n",
       "    </tr>\n",
       "    <tr>\n",
       "      <th>2</th>\n",
       "      <td>Fish</td>\n",
       "      <td>70818</td>\n",
       "      <td>2.136458</td>\n",
       "    </tr>\n",
       "    <tr>\n",
       "      <th>5</th>\n",
       "      <td>Reptile</td>\n",
       "      <td>44678</td>\n",
       "      <td>1.347859</td>\n",
       "    </tr>\n",
       "    <tr>\n",
       "      <th>0</th>\n",
       "      <td>Amphibian</td>\n",
       "      <td>43971</td>\n",
       "      <td>1.326530</td>\n",
       "    </tr>\n",
       "  </tbody>\n",
       "</table>\n",
       "</div>"
      ],
      "text/plain": [
       "            category  observations  percentage\n",
       "6     Vascular Plant       2555090   77.082690\n",
       "1               Bird        292833    8.834270\n",
       "4  Nonvascular Plant        190653    5.751675\n",
       "3             Mammal        116696    3.520519\n",
       "2               Fish         70818    2.136458\n",
       "5            Reptile         44678    1.347859\n",
       "0          Amphibian         43971    1.326530"
      ]
     },
     "execution_count": 30,
     "metadata": {},
     "output_type": "execute_result"
    }
   ],
   "source": [
    "#number of obsrevations for each category\n",
    "category_observations = observations_df.merge(species_df).groupby('category').observations.sum().reset_index().sort_values(by='observations', ascending=False)\n",
    "category_observations['percentage'] = category_observations.observations/category_observations.observations.sum() * 100\n",
    "category_observations\n"
   ]
  },
  {
   "cell_type": "code",
   "execution_count": 31,
   "metadata": {},
   "outputs": [
    {
     "ename": "ValueError",
     "evalue": "x and y must have the same length.",
     "output_type": "error",
     "traceback": [
      "\u001b[1;31m---------------------------------------------------------------------------\u001b[0m",
      "\u001b[1;31mValueError\u001b[0m                                Traceback (most recent call last)",
      "\u001b[1;32m~\\AppData\\Local\\Temp\\ipykernel_6904\\176317702.py\u001b[0m in \u001b[0;36m?\u001b[1;34m()\u001b[0m\n\u001b[0;32m      1\u001b[0m \u001b[1;32mfrom\u001b[0m \u001b[0mscipy\u001b[0m\u001b[1;33m.\u001b[0m\u001b[0mstats\u001b[0m \u001b[1;32mimport\u001b[0m \u001b[0mpearsonr\u001b[0m\u001b[1;33m\u001b[0m\u001b[1;33m\u001b[0m\u001b[0m\n\u001b[1;32m----> 2\u001b[1;33m \u001b[0mcorrelation\u001b[0m \u001b[1;33m,\u001b[0m \u001b[0mp\u001b[0m \u001b[1;33m=\u001b[0m \u001b[0mpearsonr\u001b[0m\u001b[1;33m(\u001b[0m\u001b[0mcategory_count\u001b[0m\u001b[1;33m.\u001b[0m\u001b[0mpercentage\u001b[0m\u001b[1;33m,\u001b[0m \u001b[0mcategory_observations\u001b[0m\u001b[1;33m.\u001b[0m\u001b[0mpercentage\u001b[0m\u001b[1;33m)\u001b[0m\u001b[1;33m\u001b[0m\u001b[1;33m\u001b[0m\u001b[0m\n\u001b[0m\u001b[0;32m      3\u001b[0m \u001b[0mcorrelation\u001b[0m \u001b[1;33m=\u001b[0m \u001b[0mround\u001b[0m\u001b[1;33m(\u001b[0m\u001b[0mcorrelation\u001b[0m\u001b[1;33m,\u001b[0m \u001b[1;36m6\u001b[0m\u001b[1;33m)\u001b[0m\u001b[1;33m\u001b[0m\u001b[1;33m\u001b[0m\u001b[0m\n\u001b[0;32m      4\u001b[0m \u001b[1;33m\u001b[0m\u001b[0m\n\u001b[0;32m      5\u001b[0m \u001b[1;32mimport\u001b[0m \u001b[0mmatplotlib\u001b[0m\u001b[1;33m.\u001b[0m\u001b[0mpyplot\u001b[0m \u001b[1;32mas\u001b[0m \u001b[0mplt\u001b[0m\u001b[1;33m\u001b[0m\u001b[1;33m\u001b[0m\u001b[0m\n",
      "\u001b[1;32m~\\AppData\\Local\\Packages\\PythonSoftwareFoundation.Python.3.11_qbz5n2kfra8p0\\LocalCache\\local-packages\\Python311\\site-packages\\scipy\\stats\\_stats_py.py\u001b[0m in \u001b[0;36m?\u001b[1;34m(x, y, alternative, method)\u001b[0m\n\u001b[0;32m   4761\u001b[0m \u001b[1;33m\u001b[0m\u001b[0m\n\u001b[0;32m   4762\u001b[0m     \"\"\"\n\u001b[0;32m   4763\u001b[0m     \u001b[0mn\u001b[0m \u001b[1;33m=\u001b[0m \u001b[0mlen\u001b[0m\u001b[1;33m(\u001b[0m\u001b[0mx\u001b[0m\u001b[1;33m)\u001b[0m\u001b[1;33m\u001b[0m\u001b[1;33m\u001b[0m\u001b[0m\n\u001b[0;32m   4764\u001b[0m     \u001b[1;32mif\u001b[0m \u001b[0mn\u001b[0m \u001b[1;33m!=\u001b[0m \u001b[0mlen\u001b[0m\u001b[1;33m(\u001b[0m\u001b[0my\u001b[0m\u001b[1;33m)\u001b[0m\u001b[1;33m:\u001b[0m\u001b[1;33m\u001b[0m\u001b[1;33m\u001b[0m\u001b[0m\n\u001b[1;32m-> 4765\u001b[1;33m         \u001b[1;32mraise\u001b[0m \u001b[0mValueError\u001b[0m\u001b[1;33m(\u001b[0m\u001b[1;34m'x and y must have the same length.'\u001b[0m\u001b[1;33m)\u001b[0m\u001b[1;33m\u001b[0m\u001b[1;33m\u001b[0m\u001b[0m\n\u001b[0m\u001b[0;32m   4766\u001b[0m \u001b[1;33m\u001b[0m\u001b[0m\n\u001b[0;32m   4767\u001b[0m     \u001b[1;32mif\u001b[0m \u001b[0mn\u001b[0m \u001b[1;33m<\u001b[0m \u001b[1;36m2\u001b[0m\u001b[1;33m:\u001b[0m\u001b[1;33m\u001b[0m\u001b[1;33m\u001b[0m\u001b[0m\n\u001b[0;32m   4768\u001b[0m         \u001b[1;32mraise\u001b[0m \u001b[0mValueError\u001b[0m\u001b[1;33m(\u001b[0m\u001b[1;34m'x and y must have length at least 2.'\u001b[0m\u001b[1;33m)\u001b[0m\u001b[1;33m\u001b[0m\u001b[1;33m\u001b[0m\u001b[0m\n",
      "\u001b[1;31mValueError\u001b[0m: x and y must have the same length."
     ]
    }
   ],
   "source": [
    "from scipy.stats import pearsonr\n",
    "correlation , p = pearsonr(category_count.percentage, category_observations.percentage)\n",
    "correlation = round(correlation, 6)\n",
    "\n",
    "import matplotlib.pyplot as plt\n",
    "ax = plt.subplot()\n",
    "ax.set_yscale('log')\n",
    "plt.bar(category_observations.category, category_observations.percentage, color='blue', alpha=0.5)\n",
    "# ax.set_xticks(_x_tick_positions_list_)\n",
    "plt.bar(category_count.category, category_count.percentage, color='red', alpha=0.5)\n",
    "x_labels = ['Vascular\\nPlant', 'Bird', 'Nonvascular\\nPlant', 'Mammal', 'Fish', 'Amphibian', 'Reptile']\n",
    "ax.set_xticklabels(x_labels, rotation=30)\n",
    "plt.xlabel('Categories')\n",
    "plt.ylabel('Percentage')\n",
    "plt.legend(['Observations', 'Number of Speices'])\n",
    "plt.title('Percentage of Species and Observations per Category')\n",
    "\n",
    "plt.annotate(f'Correlation: {correlation}', (0, 0), (220, 220), xycoords='axes fraction', textcoords='offset points', va='top')\n",
    "plot_name = 'graphs/percentage_of_species_and_observations_per_category.png'\n",
    "plt.savefig(plot_name, bbox_inches='tight')\n",
    "plt.show()"
   ]
  },
  {
   "cell_type": "code",
   "execution_count": null,
   "metadata": {},
   "outputs": [],
   "source": [
    "#number of observations for each conservation status\n",
    "conversation_status_v_observation = observations_df.merge(species_df).groupby('conservation_status').observations.sum().reset_index().sort_values(by='observations', ascending=False)\n",
    "conversation_status_v_observation['percentage'] = conversation_status_v_observation.observations / conversation_status_v_observation.observations.sum() * 100\n",
    "conversation_status_v_observation"
   ]
  },
  {
   "cell_type": "code",
   "execution_count": null,
   "metadata": {},
   "outputs": [],
   "source": [
    "from scipy.stats import pearsonr\n",
    "correlation , p = pearsonr(conversation_status_v_observation.percentage, conservatiopon_status_v_species.percentage)\n",
    "correlation = round(correlation, 6)\n",
    "\n",
    "import matplotlib.pyplot as plt\n",
    "ax = plt.subplot()\n",
    "ax.set_yscale('log')\n",
    "plt.bar(conversation_status_v_observation.conservation_status, conversation_status_v_observation.percentage, color='blue', alpha=0.5)\n",
    "# ax.set_xticks(_x_tick_positions_list_)\n",
    "plt.bar(conservatiopon_status_v_species.conservation_status, conservatiopon_status_v_species.percentage, color='red', alpha=0.5)\n",
    "ax.set_xticklabels(conservatiopon_status_v_species.conservation_status, rotation=30)\n",
    "plt.xlabel('Conservation Status')\n",
    "plt.ylabel('Percentage')\n",
    "plt.legend(['Observations', 'Species'])\n",
    "plt.title('Percentage of Observations and Species under each Conservation Status')\n",
    "\n",
    "plt.annotate(f'Correlation: {correlation}', (0, 0), (0, -80), xycoords='axes fraction', textcoords='offset points', va='top')\n",
    "\n",
    "plt.savefig('graphs/percentage_of_observations_and_species_under_each_conservation_status.png', bbox_inches='tight')\n",
    "plt.show()\n"
   ]
  },
  {
   "cell_type": "code",
   "execution_count": null,
   "metadata": {},
   "outputs": [],
   "source": [
    "#number of observations for each species\n",
    "ovservations_speicies =  observations_df.groupby('scientific_name').observations.sum().reset_index().sort_values(by='observations', ascending=False)\n",
    "ovservations_speicies"
   ]
  },
  {
   "cell_type": "code",
   "execution_count": null,
   "metadata": {},
   "outputs": [],
   "source": [
    "#number of observations for each park and category\n",
    "obsercations_park_category = observations_df.merge(species_df).groupby(['park_name', 'category']).observations.sum().reset_index().sort_values(by='observations', ascending=False)\n",
    "obsercations_park_category"
   ]
  },
  {
   "cell_type": "markdown",
   "metadata": {},
   "source": [
    "## Descriptive Analysis\n",
    "\n",
    "1. What is the distribution of conservation status for species?\n",
    "2. what is the park that has the most endangered species?\n",
    "3. what is the category that has the most endangered species?\n",
    "4. what is the most common species in each park?"
   ]
  },
  {
   "cell_type": "code",
   "execution_count": null,
   "metadata": {},
   "outputs": [],
   "source": [
    "# cross tab park - category\n",
    "# FIXME: i dont think its normalising for each park\n",
    "ct_park_species = pd.crosstab(observations_df['park_name'],\n",
    "                              species_df['category'], \n",
    "                              values=observations_df['observations'], \n",
    "                              aggfunc='sum', \n",
    "                              normalize='index')\n",
    "sns.heatmap(ct_park_species, cmap='Spectral', annot=True, fmt='.2f')\n",
    "\n"
   ]
  },
  {
   "cell_type": "code",
   "execution_count": null,
   "metadata": {},
   "outputs": [],
   "source": [
    "#cross tab park - category minus vascular plants\n",
    "# FIXME: i dont think its normalising for each park\n",
    "ct_park_species_minus_vascular = pd.crosstab(observations_df['park_name'],\n",
    "                                             species_df[species_df['category']!='Vascular Plant']['category'], \n",
    "                                             values=observations_df['observations'], \n",
    "                                             aggfunc='sum',\n",
    "                                             normalize='index')\n",
    "sns.heatmap(ct_park_species_minus_vascular, cmap='Spectral', annot=True, fmt='.2f')"
   ]
  },
  {
   "cell_type": "code",
   "execution_count": null,
   "metadata": {},
   "outputs": [],
   "source": [
    "#cross tab park - conservation status minus no intervention\n",
    "# FIXME: i dont think its normalising for each park\n",
    "ct_park_species_minus_no_intervention = pd.crosstab(observations_df['park_name'],\n",
    "                                                    species_df[species_df['conservation_status']!='No Intervention']['conservation_status'], \n",
    "                                                    values=observations_df['observations'],\n",
    "                                                    aggfunc='sum',\n",
    "                                                    normalize='index')\n",
    "sns.heatmap(ct_park_species_minus_no_intervention, cmap='Spectral', annot=True, fmt='g')\n"
   ]
  },
  {
   "cell_type": "code",
   "execution_count": null,
   "metadata": {},
   "outputs": [],
   "source": [
    "#crosstab category - conservation status minus no intervention\n",
    "ct_category_conservation = pd.crosstab(species_df[species_df['conservation_status']!='No Intervention']['category'], \n",
    "                                       species_df[species_df['conservation_status']!='No Intervention']['conservation_status'])\n",
    "sns.heatmap(ct_category_conservation, cmap='Spectral', annot=True, fmt='g')"
   ]
  },
  {
   "cell_type": "code",
   "execution_count": null,
   "metadata": {},
   "outputs": [],
   "source": [
    "# 1 - What is the distribution of conservation status for species?                                                                                                                                                                                                                                                                                                                                                                                                                                                                                                                                                                                                                                                       \n"
   ]
  }
 ],
 "metadata": {
  "kernelspec": {
   "display_name": "Python 3",
   "language": "python",
   "name": "python3"
  },
  "language_info": {
   "codemirror_mode": {
    "name": "ipython",
    "version": 3
   },
   "file_extension": ".py",
   "mimetype": "text/x-python",
   "name": "python",
   "nbconvert_exporter": "python",
   "pygments_lexer": "ipython3",
   "version": "3.11.9"
  }
 },
 "nbformat": 4,
 "nbformat_minor": 4
}
